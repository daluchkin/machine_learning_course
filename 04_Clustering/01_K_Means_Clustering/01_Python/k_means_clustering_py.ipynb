{
 "cells": [
  {
   "cell_type": "markdown",
   "id": "0047c635-f647-47d0-91cb-c79e4e7228cf",
   "metadata": {},
   "source": [
    "# K-Means Clustering"
   ]
  },
  {
   "cell_type": "markdown",
   "id": "e7ee085e-1898-4fed-a475-bc62b4dfa794",
   "metadata": {},
   "source": [
    "## K-Means clustering step-by-step"
   ]
  },
  {
   "cell_type": "markdown",
   "id": "0983cd0b-416d-4304-a307-e764d9feb4ec",
   "metadata": {},
   "source": [
    "**Clustering into 2 clusters:**"
   ]
  },
  {
   "cell_type": "markdown",
   "id": "1cde8321-edaf-4ff2-b0b9-d9a3af775bab",
   "metadata": {},
   "source": [
    "<div>\n",
    "<img src=\"./pic/kmeans_k_2_demo.gif\" width=\"500\"/>\n",
    "</div>"
   ]
  },
  {
   "cell_type": "markdown",
   "id": "71720c12-11f0-4193-a1e4-00d5dbe1334f",
   "metadata": {},
   "source": [
    "**Clustering into 3 clusters:**"
   ]
  },
  {
   "cell_type": "markdown",
   "id": "24d36056-53a9-4f55-965a-129e939bb31b",
   "metadata": {},
   "source": [
    "<div>\n",
    "<img src=\"./pic/kmeans_k_3_demo.gif\" width=\"500\"/>\n",
    "</div>"
   ]
  },
  {
   "cell_type": "markdown",
   "id": "52601721-d578-4a0f-8f53-ef95dff4f6c2",
   "metadata": {},
   "source": [
    "**Clustering into 4 clusters:**"
   ]
  },
  {
   "cell_type": "markdown",
   "id": "f5bf31a8-5238-48cb-9c38-43606400a75f",
   "metadata": {},
   "source": [
    "<div>\n",
    "<img src=\"./pic/kmeans_k_4_demo.gif\" width=\"500\"/>\n",
    "</div>"
   ]
  },
  {
   "cell_type": "markdown",
   "id": "bbc1a205-dae8-40ce-bcdb-9559f55ebbc5",
   "metadata": {},
   "source": [
    "## The Elbow method in clustering"
   ]
  },
  {
   "cell_type": "markdown",
   "id": "be4737aa-9345-4347-b572-a1c0b996c8a1",
   "metadata": {},
   "source": [
    "![](./pic/elbow.png)"
   ]
  },
  {
   "cell_type": "markdown",
   "id": "0a7bf8d4-4920-48b2-a72e-d57515662934",
   "metadata": {},
   "source": [
    "### Within-Cluster Sum of Squares (WCSS)\n",
    "\n",
    "The formula for calculating WCSS is as follows:\n",
    "\n",
    "$$\n",
    "WCSS = \\sum_{i=1}^{k} \\sum_{j=1}^{n_i} \\| P_j^{(i)} - C_i \\|^2\n",
    "$$\n",
    "\n",
    "### Explanation of Terms\n",
    "- **$k$**: The number of clusters.\n",
    "- **$n_i$**: The number of points in cluster $i$.\n",
    "- **$P_j^{(i)}$**: The $j$-th data point in cluster $i$.\n",
    "- **$C_i$**: The centroid (mean point) of cluster $i$.\n",
    "- **$\\| P_j^{(i)} - C_i \\|^2$**: The squared Euclidean distance between the point $P_j^{(i)}$ and the centroid $C_i$.\n",
    "\n",
    "### Purpose\n",
    "WCSS measures the compactness of clusters by summing up the squared distances of data points from their respective cluster centroids. It is used in the **Elbow Method** to determine the optimal number of clusters by identifying the point where adding more clusters provides diminishing returns in reducing WCSS.\n"
   ]
  },
  {
   "cell_type": "markdown",
   "id": "3b86688f-23d7-494c-a5e3-ae96897aee0a",
   "metadata": {},
   "source": [
    "## K-Means++"
   ]
  },
  {
   "cell_type": "markdown",
   "id": "334faf5f-f5e5-4b53-9ca0-f6d4418044a0",
   "metadata": {},
   "source": [
    "#### **Step 1: Choose the first centroid**\n",
    "Randomly select the first centroid from the set of all data points.\n",
    "\n",
    "#### **Step 2: Compute distances**\n",
    "For each data point, calculate the distance to the nearest already-selected centroid.\\\n",
    "The distance is the squared Euclidean distance:\n",
    "     $$\n",
    "     D(x_i, c) = ||x_i - c||^2\n",
    "     $$\n",
    "\n",
    "#### **Step 3: Probabilistic selection of the next centroid**\n",
    "Select the next centroid based on a probability proportional to the squared distance:\n",
    "     $$\n",
    "     P(x_i) = \\frac{D(x_i)^2}{\\sum_{j=1}^{n} D(x_j)^2}\n",
    "     $$\n",
    "\n",
    "#### **Step 4: Repeat for all centroids**\n",
    "Repeat steps 2 and 3 until all $k$ centroids have been selected.\n",
    "\n",
    "#### **Step 5: Run the K-Means algorithm**\n",
    "Once the initial centroids are chosen, run the standard K-Means algorithm:\n",
    "   - Assign data points to the nearest centroid.\n",
    "   - Update centroids as the mean of the points assigned to each cluster.\n",
    "   - Repeat until convergence.\n"
   ]
  },
  {
   "cell_type": "markdown",
   "id": "0efff6af-fb79-4cd5-b5a1-8bc860c77c77",
   "metadata": {},
   "source": [
    "## Goal\n",
    "\n",
    "The goal is identify some customer patters in the data by applying K-Means algorithm."
   ]
  },
  {
   "cell_type": "markdown",
   "id": "35a414e3-592e-4937-83b5-e0f9beb95f9c",
   "metadata": {},
   "source": [
    "## Dataset\n",
    "\n",
    "Have a quick look at the dataset."
   ]
  },
  {
   "cell_type": "code",
   "execution_count": 1,
   "id": "0262f1bd-ef6f-45b7-a1ad-a1ab2f2e696b",
   "metadata": {},
   "outputs": [
    {
     "name": "stdout",
     "output_type": "stream",
     "text": [
      "CustomerID,Genre,Age,Annual Income (k$),Spending Score (1-100)\n",
      "0001,Male,19,15,39\n",
      "0002,Male,21,15,81\n",
      "0003,Female,20,16,6\n",
      "0004,Female,23,16,77\n",
      "0005,Female,31,17,40\n",
      "0006,Female,22,17,76\n",
      "0007,Female,35,18,6\n",
      "0008,Female,23,18,94\n",
      "0009,Male,64,19,3\n"
     ]
    }
   ],
   "source": [
    "%cat ../00_data/Mall_Customers.csv | head"
   ]
  },
  {
   "cell_type": "code",
   "execution_count": 2,
   "id": "106d8425-7bbc-4768-8525-05b780bc6ba9",
   "metadata": {},
   "outputs": [
    {
     "name": "stdout",
     "output_type": "stream",
     "text": [
      "0191,Female,34,103,23\n",
      "0192,Female,32,103,69\n",
      "0193,Male,33,113,8\n",
      "0194,Female,38,113,91\n",
      "0195,Female,47,120,16\n",
      "0196,Female,35,120,79\n",
      "0197,Female,45,126,28\n",
      "0198,Male,32,126,74\n",
      "0199,Male,32,137,18\n",
      "0200,Male,30,137,83"
     ]
    }
   ],
   "source": [
    "%cat ../00_data/Mall_Customers.csv | tail"
   ]
  },
  {
   "cell_type": "markdown",
   "id": "4e93714e-6f53-4ea2-92d5-67a852ae7fc5",
   "metadata": {},
   "source": [
    "## Load the libraries"
   ]
  },
  {
   "cell_type": "code",
   "execution_count": 3,
   "id": "f8f69bac-5d9f-4034-9e91-059ed0067265",
   "metadata": {},
   "outputs": [],
   "source": [
    "import pandas as pd\n",
    "import numpy as np\n",
    "import matplotlib.pyplot as plt"
   ]
  },
  {
   "cell_type": "markdown",
   "id": "31ee361d-cd50-4145-8018-4de86b198607",
   "metadata": {},
   "source": [
    "## Load data"
   ]
  },
  {
   "cell_type": "code",
   "execution_count": 4,
   "id": "93f236a2-cfa9-408d-9186-bd003db525e2",
   "metadata": {},
   "outputs": [
    {
     "data": {
      "text/html": [
       "<div>\n",
       "<style scoped>\n",
       "    .dataframe tbody tr th:only-of-type {\n",
       "        vertical-align: middle;\n",
       "    }\n",
       "\n",
       "    .dataframe tbody tr th {\n",
       "        vertical-align: top;\n",
       "    }\n",
       "\n",
       "    .dataframe thead th {\n",
       "        text-align: right;\n",
       "    }\n",
       "</style>\n",
       "<table border=\"1\" class=\"dataframe\">\n",
       "  <thead>\n",
       "    <tr style=\"text-align: right;\">\n",
       "      <th></th>\n",
       "      <th>CustomerID</th>\n",
       "      <th>Genre</th>\n",
       "      <th>Age</th>\n",
       "      <th>Annual Income (k$)</th>\n",
       "      <th>Spending Score (1-100)</th>\n",
       "    </tr>\n",
       "  </thead>\n",
       "  <tbody>\n",
       "    <tr>\n",
       "      <th>0</th>\n",
       "      <td>1</td>\n",
       "      <td>Male</td>\n",
       "      <td>19</td>\n",
       "      <td>15</td>\n",
       "      <td>39</td>\n",
       "    </tr>\n",
       "    <tr>\n",
       "      <th>1</th>\n",
       "      <td>2</td>\n",
       "      <td>Male</td>\n",
       "      <td>21</td>\n",
       "      <td>15</td>\n",
       "      <td>81</td>\n",
       "    </tr>\n",
       "    <tr>\n",
       "      <th>2</th>\n",
       "      <td>3</td>\n",
       "      <td>Female</td>\n",
       "      <td>20</td>\n",
       "      <td>16</td>\n",
       "      <td>6</td>\n",
       "    </tr>\n",
       "    <tr>\n",
       "      <th>3</th>\n",
       "      <td>4</td>\n",
       "      <td>Female</td>\n",
       "      <td>23</td>\n",
       "      <td>16</td>\n",
       "      <td>77</td>\n",
       "    </tr>\n",
       "    <tr>\n",
       "      <th>4</th>\n",
       "      <td>5</td>\n",
       "      <td>Female</td>\n",
       "      <td>31</td>\n",
       "      <td>17</td>\n",
       "      <td>40</td>\n",
       "    </tr>\n",
       "  </tbody>\n",
       "</table>\n",
       "</div>"
      ],
      "text/plain": [
       "   CustomerID   Genre  Age  Annual Income (k$)  Spending Score (1-100)\n",
       "0           1    Male   19                  15                      39\n",
       "1           2    Male   21                  15                      81\n",
       "2           3  Female   20                  16                       6\n",
       "3           4  Female   23                  16                      77\n",
       "4           5  Female   31                  17                      40"
      ]
     },
     "execution_count": 4,
     "metadata": {},
     "output_type": "execute_result"
    }
   ],
   "source": [
    "df = pd.read_csv('../00_data/Mall_Customers.csv', decimal='.', sep=',')\n",
    "\n",
    "df.head()"
   ]
  },
  {
   "cell_type": "code",
   "execution_count": 5,
   "id": "c5fa189a-8833-44d8-abdf-38b3c19ea93b",
   "metadata": {},
   "outputs": [
    {
     "data": {
      "text/plain": [
       "(200, 5)"
      ]
     },
     "execution_count": 5,
     "metadata": {},
     "output_type": "execute_result"
    }
   ],
   "source": [
    "df.shape"
   ]
  },
  {
   "cell_type": "code",
   "execution_count": 6,
   "id": "8124be59-0b6b-4290-9e44-dad4571799ed",
   "metadata": {},
   "outputs": [
    {
     "name": "stdout",
     "output_type": "stream",
     "text": [
      "<class 'pandas.core.frame.DataFrame'>\n",
      "RangeIndex: 200 entries, 0 to 199\n",
      "Data columns (total 5 columns):\n",
      " #   Column                  Non-Null Count  Dtype \n",
      "---  ------                  --------------  ----- \n",
      " 0   CustomerID              200 non-null    int64 \n",
      " 1   Genre                   200 non-null    object\n",
      " 2   Age                     200 non-null    int64 \n",
      " 3   Annual Income (k$)      200 non-null    int64 \n",
      " 4   Spending Score (1-100)  200 non-null    int64 \n",
      "dtypes: int64(4), object(1)\n",
      "memory usage: 7.9+ KB\n"
     ]
    }
   ],
   "source": [
    "df.info()"
   ]
  },
  {
   "cell_type": "code",
   "execution_count": 7,
   "id": "213c71d2-4ee4-459b-bc14-3c2bbf7dee6c",
   "metadata": {},
   "outputs": [
    {
     "data": {
      "text/plain": [
       "CustomerID                0\n",
       "Genre                     0\n",
       "Age                       0\n",
       "Annual Income (k$)        0\n",
       "Spending Score (1-100)    0\n",
       "dtype: int64"
      ]
     },
     "execution_count": 7,
     "metadata": {},
     "output_type": "execute_result"
    }
   ],
   "source": [
    "np.sum(df.isna(), axis=0)"
   ]
  },
  {
   "cell_type": "markdown",
   "id": "1b441f3e-c8ca-4d87-a86d-521044f7e0ce",
   "metadata": {},
   "source": [
    "## Features\n",
    "\n",
    "+ `Annual Income (k$) `\n",
    "+ `Spending Score (1-100)`\n"
   ]
  },
  {
   "cell_type": "code",
   "execution_count": 8,
   "id": "6a4c7201-609c-4e49-b6c9-3ca103568121",
   "metadata": {},
   "outputs": [],
   "source": [
    "X = df.iloc[:, [3, 4]].values"
   ]
  },
  {
   "cell_type": "code",
   "execution_count": 9,
   "id": "05bed08d-8301-4486-a9df-9c8961059ec9",
   "metadata": {},
   "outputs": [
    {
     "data": {
      "text/plain": [
       "array([[15, 39],\n",
       "       [15, 81],\n",
       "       [16,  6],\n",
       "       [16, 77],\n",
       "       [17, 40],\n",
       "       [17, 76],\n",
       "       [18,  6],\n",
       "       [18, 94],\n",
       "       [19,  3],\n",
       "       [19, 72]])"
      ]
     },
     "execution_count": 9,
     "metadata": {},
     "output_type": "execute_result"
    }
   ],
   "source": [
    "X[:10, :]"
   ]
  },
  {
   "cell_type": "markdown",
   "id": "edbb4e31-1dbf-444a-adbf-1b82f22d020d",
   "metadata": {},
   "source": [
    "## Features scaling"
   ]
  },
  {
   "cell_type": "markdown",
   "id": "84f13da2-3224-47e5-a52d-322d072d4add",
   "metadata": {},
   "source": [
    "> **Important!** You should scale features before applying K-Means because it relies on Euclidean distance, and unscaled features with different ranges can disproportionately influence the clustering results."
   ]
  },
  {
   "cell_type": "code",
   "execution_count": 10,
   "id": "e896a304-7a9b-471d-84c8-24f34c8d06f6",
   "metadata": {},
   "outputs": [],
   "source": [
    "from sklearn.preprocessing import StandardScaler\n",
    "\n",
    "scaler = StandardScaler()\n",
    "\n",
    "X_scaled = scaler.fit_transform(X)"
   ]
  },
  {
   "cell_type": "code",
   "execution_count": 11,
   "id": "2cab7b90-98ff-4c2c-8b70-184479de4119",
   "metadata": {},
   "outputs": [
    {
     "data": {
      "text/plain": [
       "array([[-1.73899919, -0.43480148],\n",
       "       [-1.73899919,  1.19570407],\n",
       "       [-1.70082976, -1.71591298],\n",
       "       [-1.70082976,  1.04041783],\n",
       "       [-1.66266033, -0.39597992]])"
      ]
     },
     "execution_count": 11,
     "metadata": {},
     "output_type": "execute_result"
    }
   ],
   "source": [
    "X_scaled[:5, :]"
   ]
  },
  {
   "cell_type": "markdown",
   "id": "10b23e61-0bbe-4194-a8b2-ab4d74d61da7",
   "metadata": {},
   "source": [
    "## Find the optimal number of clusters"
   ]
  },
  {
   "cell_type": "code",
   "execution_count": 12,
   "id": "0abfbcb9-30d5-458b-ab2c-a7f82e0e2f5e",
   "metadata": {},
   "outputs": [],
   "source": [
    "# init random seed\n",
    "random_state = 42"
   ]
  },
  {
   "cell_type": "code",
   "execution_count": 13,
   "id": "4a0e45ea-7c69-4c94-9bdb-e7dd91327dd0",
   "metadata": {},
   "outputs": [
    {
     "data": {
      "image/png": "[encoded data removed]",
      "text/plain": [
       "<Figure size 800x600 with 1 Axes>"
      ]
     },
     "metadata": {},
     "output_type": "display_data"
    }
   ],
   "source": [
    "from sklearn.cluster import KMeans\n",
    "\n",
    "wcss = []\n",
    "K = range(1, 11)\n",
    "\n",
    "for num_clusters in K:\n",
    "    kmeans = KMeans(n_clusters=num_clusters,\n",
    "                   init=\"k-means++\",\n",
    "                   random_state=random_state)\n",
    "    kmeans.fit(X_scaled)\n",
    "    wcss.append(kmeans.inertia_)  \n",
    "\n",
    "plt.figure(figsize=(8, 6))\n",
    "plt.plot(K, wcss, 'bo-', markersize=8)\n",
    "plt.xlabel('Number of clusters (k)')\n",
    "plt.ylabel('WCSS')\n",
    "plt.title('The Elbow method for determining the optimal number of clusters')\n",
    "plt.grid(True)\n",
    "plt.show()"
   ]
  },
  {
   "cell_type": "markdown",
   "id": "cbd0de11-e092-469a-a5f4-9d5a45b85315",
   "metadata": {},
   "source": [
    "$K=5$ is the optimal number or clusters."
   ]
  },
  {
   "cell_type": "markdown",
   "id": "b94b5c39-10fd-49ca-97e7-6eb444f3521a",
   "metadata": {},
   "source": [
    "## Train the model on the dataset"
   ]
  },
  {
   "cell_type": "code",
   "execution_count": 14,
   "id": "6275425d-d69e-409e-8815-280ccca368f2",
   "metadata": {},
   "outputs": [],
   "source": [
    "kmeans = KMeans(n_clusters=5,\n",
    "                   init=\"k-means++\",\n",
    "                   random_state=random_state)\n",
    "clusters_pred = kmeans.fit_predict(X_scaled)"
   ]
  },
  {
   "cell_type": "code",
   "execution_count": 15,
   "id": "7f18123d-c410-4551-a014-8788922f1b81",
   "metadata": {},
   "outputs": [
    {
     "data": {
      "text/plain": [
       "array([4, 2, 4, 2, 4, 2, 4, 2, 4, 2, 4, 2, 4, 2, 4, 2, 4, 2, 4, 2, 4, 2,\n",
       "       4, 2, 4, 2, 4, 2, 4, 2, 4, 2, 4, 2, 4, 2, 4, 2, 4, 2, 4, 2, 4, 0,\n",
       "       4, 2, 0, 0, 0, 0, 0, 0, 0, 0, 0, 0, 0, 0, 0, 0, 0, 0, 0, 0, 0, 0,\n",
       "       0, 0, 0, 0, 0, 0, 0, 0, 0, 0, 0, 0, 0, 0, 0, 0, 0, 0, 0, 0, 0, 0,\n",
       "       0, 0, 0, 0, 0, 0, 0, 0, 0, 0, 0, 0, 0, 0, 0, 0, 0, 0, 0, 0, 0, 0,\n",
       "       0, 0, 0, 0, 0, 0, 0, 0, 0, 0, 0, 0, 0, 1, 3, 1, 0, 1, 3, 1, 3, 1,\n",
       "       0, 1, 3, 1, 3, 1, 3, 1, 3, 1, 0, 1, 3, 1, 3, 1, 3, 1, 3, 1, 3, 1,\n",
       "       3, 1, 3, 1, 3, 1, 3, 1, 3, 1, 3, 1, 3, 1, 3, 1, 3, 1, 3, 1, 3, 1,\n",
       "       3, 1, 3, 1, 3, 1, 3, 1, 3, 1, 3, 1, 3, 1, 3, 1, 3, 1, 3, 1, 3, 1,\n",
       "       3, 1], dtype=int32)"
      ]
     },
     "execution_count": 15,
     "metadata": {},
     "output_type": "execute_result"
    }
   ],
   "source": [
    "clusters_pred"
   ]
  },
  {
   "cell_type": "code",
   "execution_count": 16,
   "id": "23217b5b-7805-449b-b59e-cfa243356db5",
   "metadata": {},
   "outputs": [
    {
     "data": {
      "text/plain": [
       "array([[-0.20091257, -0.02645617],\n",
       "       [ 0.99158305,  1.23950275],\n",
       "       [-1.32954532,  1.13217788],\n",
       "       [ 1.05500302, -1.28443907],\n",
       "       [-1.30751869, -1.13696536]])"
      ]
     },
     "execution_count": 16,
     "metadata": {},
     "output_type": "execute_result"
    }
   ],
   "source": [
    "# centroids\n",
    "kmeans.cluster_centers_"
   ]
  },
  {
   "cell_type": "code",
   "execution_count": 17,
   "id": "1f497e86-55b6-43ef-b070-58d46a40ae79",
   "metadata": {},
   "outputs": [
    {
     "data": {
      "text/plain": [
       "array([4, 2, 4, 2, 4, 2, 4, 2, 4, 2, 4, 2, 4, 2, 4, 2, 4, 2, 4, 2, 4, 2,\n",
       "       4, 2, 4, 2, 4, 2, 4, 2, 4, 2, 4, 2, 4, 2, 4, 2, 4, 2, 4, 2, 4, 0,\n",
       "       4, 2, 0, 0, 0, 0, 0, 0, 0, 0, 0, 0, 0, 0, 0, 0, 0, 0, 0, 0, 0, 0,\n",
       "       0, 0, 0, 0, 0, 0, 0, 0, 0, 0, 0, 0, 0, 0, 0, 0, 0, 0, 0, 0, 0, 0,\n",
       "       0, 0, 0, 0, 0, 0, 0, 0, 0, 0, 0, 0, 0, 0, 0, 0, 0, 0, 0, 0, 0, 0,\n",
       "       0, 0, 0, 0, 0, 0, 0, 0, 0, 0, 0, 0, 0, 1, 3, 1, 0, 1, 3, 1, 3, 1,\n",
       "       0, 1, 3, 1, 3, 1, 3, 1, 3, 1, 0, 1, 3, 1, 3, 1, 3, 1, 3, 1, 3, 1,\n",
       "       3, 1, 3, 1, 3, 1, 3, 1, 3, 1, 3, 1, 3, 1, 3, 1, 3, 1, 3, 1, 3, 1,\n",
       "       3, 1, 3, 1, 3, 1, 3, 1, 3, 1, 3, 1, 3, 1, 3, 1, 3, 1, 3, 1, 3, 1,\n",
       "       3, 1], dtype=int32)"
      ]
     },
     "execution_count": 17,
     "metadata": {},
     "output_type": "execute_result"
    }
   ],
   "source": [
    "# cluster labels\n",
    "kmeans.labels_"
   ]
  },
  {
   "cell_type": "markdown",
   "id": "a1e4bbaf-fefe-4303-b85a-5125f32d4737",
   "metadata": {},
   "source": [
    "## Viz the clusters"
   ]
  },
  {
   "cell_type": "code",
   "execution_count": 18,
   "id": "bb1f3b52-8651-46e1-8e40-0e1166876d60",
   "metadata": {},
   "outputs": [
    {
     "data": {
      "image/png": "[encoded data removed]",
      "text/plain": [
       "<Figure size 800x600 with 1 Axes>"
      ]
     },
     "metadata": {},
     "output_type": "display_data"
    }
   ],
   "source": [
    "plt.figure(figsize=(8, 6))\n",
    "\n",
    "for cluster_id in range(5):\n",
    "    plt.scatter(X[kmeans.labels_ == cluster_id, 0], \n",
    "                X[kmeans.labels_ == cluster_id, 1], \n",
    "                label=f\"Cluster {cluster_id+1}\", alpha=0.7)\n",
    "\n",
    "plt.scatter(scaler.inverse_transform(kmeans.cluster_centers_)[:, 0], \n",
    "            scaler.inverse_transform(kmeans.cluster_centers_)[:, 1], \n",
    "            c='red', s=200, marker='X', label='Centroids')\n",
    "plt.title(\"Clusters Visualization\", fontsize=14)\n",
    "plt.xlabel(\"Annual Income (k$)\", fontsize=12)\n",
    "plt.ylabel(\"Spending Score (1-100)\", fontsize=12)\n",
    "plt.legend()\n",
    "plt.grid(True, alpha=0.3)\n",
    "plt.show()"
   ]
  }
 ],
 "metadata": {
  "kernelspec": {
   "display_name": "Python 3 (ipykernel)",
   "language": "python",
   "name": "python3"
  },
  "language_info": {
   "codemirror_mode": {
    "name": "ipython",
    "version": 3
   },
   "file_extension": ".py",
   "mimetype": "text/x-python",
   "name": "python",
   "nbconvert_exporter": "python",
   "pygments_lexer": "ipython3",
   "version": "3.12.4"
  }
 },
 "nbformat": 4,
 "nbformat_minor": 5
}
