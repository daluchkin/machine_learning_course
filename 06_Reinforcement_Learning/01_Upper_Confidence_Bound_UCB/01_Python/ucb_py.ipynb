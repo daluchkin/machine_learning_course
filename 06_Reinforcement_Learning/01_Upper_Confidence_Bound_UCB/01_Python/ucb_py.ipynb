{
 "cells": [
  {
   "cell_type": "markdown",
   "id": "1dfcfc40-cdd8-4142-a150-c42cee9472e6",
   "metadata": {},
   "source": [
    "# Upper Confidence Bound (UCB)"
   ]
  },
  {
   "cell_type": "markdown",
   "id": "cda36f70-9956-4372-9044-3280c047c0cc",
   "metadata": {},
   "source": [
    "## Algorithm Steps\n",
    "\n",
    "### **Step 1.**  \n",
    "At each round $n$, we consider two numbers for each ad $i$:  \n",
    "- $N_i(n)$ - the number of times the ad $i$ was selected up to round $n$.  \n",
    "- $R_i(n)$ - the sum of rewards of the ad $i$ up to round $n$.  \n",
    "\n",
    "### **Step 2.**  \n",
    "From these two numbers, we compute:  \n",
    "\n",
    "- The **average reward** of ad $i$ up to round $n$:  \n",
    "\n",
    "  $$\n",
    "  \\bar{r}_i(n) = \\frac{R_i(n)}{N_i(n)}\n",
    "  $$\n",
    "\n",
    "- The **confidence interval** $[ \\bar{r}_i(n) - \\Delta_i(n), \\bar{r}_i(n) + \\Delta_i(n) ]$ at round $n$, where:  \n",
    "\n",
    "  $$\n",
    "  \\Delta_i(n) = \\sqrt{\\frac{3 \\log(n)}{2 N_i(n)}}\n",
    "  $$\n",
    "\n",
    "### **Step 3.**  \n",
    "We select the ad $i$ that has the **maximum UCB value**:  \n",
    "\n",
    "$$\n",
    "\\bar{r}_i(n) + \\Delta_i(n)\n",
    "$$\n"
   ]
  },
  {
   "cell_type": "markdown",
   "id": "13416725-472b-478d-85c9-1d518ae8505f",
   "metadata": {},
   "source": [
    "## Libraries Loading"
   ]
  },
  {
   "cell_type": "code",
   "execution_count": 1,
   "id": "920d8aa9-cb2c-4a6d-9821-6b56c120bd5d",
   "metadata": {},
   "outputs": [],
   "source": [
    "import pandas as pd\n",
    "import numpy as np\n",
    "import matplotlib.pyplot as plt"
   ]
  },
  {
   "cell_type": "markdown",
   "id": "2c2e2277-4551-48af-9dff-2c27832c2913",
   "metadata": {},
   "source": [
    "## Dataset"
   ]
  },
  {
   "cell_type": "code",
   "execution_count": 2,
   "id": "94a767c2-06bc-4e08-92f5-8ca5f55521cc",
   "metadata": {},
   "outputs": [
    {
     "name": "stdout",
     "output_type": "stream",
     "text": [
      "Ad 1,Ad 2,Ad 3,Ad 4,Ad 5,Ad 6,Ad 7,Ad 8,Ad 9,Ad 10\n",
      "1,0,0,0,1,0,0,0,1,0\n",
      "0,0,0,0,0,0,0,0,1,0\n",
      "0,0,0,0,0,0,0,0,0,0\n",
      "0,1,0,0,0,0,0,1,0,0\n",
      "0,0,0,0,0,0,0,0,0,0\n",
      "1,1,0,0,0,0,0,0,0,0\n",
      "0,0,0,1,0,0,0,0,0,0\n",
      "1,1,0,0,1,0,0,0,0,0\n",
      "0,0,0,0,0,0,0,0,0,0\n",
      "cat: stdout: Broken pipe\n"
     ]
    }
   ],
   "source": [
    "%cat '../00_data/Ads_CTR_Optimisation.csv'|head"
   ]
  },
  {
   "cell_type": "code",
   "execution_count": 3,
   "id": "9aee601d-d838-4cea-ae0c-d27389034503",
   "metadata": {},
   "outputs": [
    {
     "name": "stdout",
     "output_type": "stream",
     "text": [
      "0,0,0,1,0,0,0,0,0,0\n",
      "0,1,0,1,1,0,1,0,0,0\n",
      "0,0,0,1,0,0,1,0,0,0\n",
      "0,0,0,0,1,0,0,0,1,0\n",
      "0,0,1,0,0,0,0,0,1,0\n",
      "0,0,1,0,0,0,0,1,0,0\n",
      "0,0,0,0,0,0,0,0,0,0\n",
      "0,0,0,0,0,0,0,0,0,0\n",
      "1,0,0,0,0,0,0,1,0,0\n",
      "0,1,0,0,0,0,0,0,0,0"
     ]
    }
   ],
   "source": [
    "%cat '../00_data/Ads_CTR_Optimisation.csv'|tail"
   ]
  },
  {
   "cell_type": "markdown",
   "id": "8a8649f9-474d-4726-8c1f-a20c7cf44584",
   "metadata": {},
   "source": [
    "## Data Loading"
   ]
  },
  {
   "cell_type": "code",
   "execution_count": 4,
   "id": "5da7feea-aa43-42dc-b384-fa9d983249b1",
   "metadata": {},
   "outputs": [
    {
     "data": {
      "text/html": [
       "<div>\n",
       "<style scoped>\n",
       "    .dataframe tbody tr th:only-of-type {\n",
       "        vertical-align: middle;\n",
       "    }\n",
       "\n",
       "    .dataframe tbody tr th {\n",
       "        vertical-align: top;\n",
       "    }\n",
       "\n",
       "    .dataframe thead th {\n",
       "        text-align: right;\n",
       "    }\n",
       "</style>\n",
       "<table border=\"1\" class=\"dataframe\">\n",
       "  <thead>\n",
       "    <tr style=\"text-align: right;\">\n",
       "      <th></th>\n",
       "      <th>Ad 1</th>\n",
       "      <th>Ad 2</th>\n",
       "      <th>Ad 3</th>\n",
       "      <th>Ad 4</th>\n",
       "      <th>Ad 5</th>\n",
       "      <th>Ad 6</th>\n",
       "      <th>Ad 7</th>\n",
       "      <th>Ad 8</th>\n",
       "      <th>Ad 9</th>\n",
       "      <th>Ad 10</th>\n",
       "    </tr>\n",
       "  </thead>\n",
       "  <tbody>\n",
       "    <tr>\n",
       "      <th>0</th>\n",
       "      <td>1</td>\n",
       "      <td>0</td>\n",
       "      <td>0</td>\n",
       "      <td>0</td>\n",
       "      <td>1</td>\n",
       "      <td>0</td>\n",
       "      <td>0</td>\n",
       "      <td>0</td>\n",
       "      <td>1</td>\n",
       "      <td>0</td>\n",
       "    </tr>\n",
       "    <tr>\n",
       "      <th>1</th>\n",
       "      <td>0</td>\n",
       "      <td>0</td>\n",
       "      <td>0</td>\n",
       "      <td>0</td>\n",
       "      <td>0</td>\n",
       "      <td>0</td>\n",
       "      <td>0</td>\n",
       "      <td>0</td>\n",
       "      <td>1</td>\n",
       "      <td>0</td>\n",
       "    </tr>\n",
       "    <tr>\n",
       "      <th>2</th>\n",
       "      <td>0</td>\n",
       "      <td>0</td>\n",
       "      <td>0</td>\n",
       "      <td>0</td>\n",
       "      <td>0</td>\n",
       "      <td>0</td>\n",
       "      <td>0</td>\n",
       "      <td>0</td>\n",
       "      <td>0</td>\n",
       "      <td>0</td>\n",
       "    </tr>\n",
       "    <tr>\n",
       "      <th>3</th>\n",
       "      <td>0</td>\n",
       "      <td>1</td>\n",
       "      <td>0</td>\n",
       "      <td>0</td>\n",
       "      <td>0</td>\n",
       "      <td>0</td>\n",
       "      <td>0</td>\n",
       "      <td>1</td>\n",
       "      <td>0</td>\n",
       "      <td>0</td>\n",
       "    </tr>\n",
       "    <tr>\n",
       "      <th>4</th>\n",
       "      <td>0</td>\n",
       "      <td>0</td>\n",
       "      <td>0</td>\n",
       "      <td>0</td>\n",
       "      <td>0</td>\n",
       "      <td>0</td>\n",
       "      <td>0</td>\n",
       "      <td>0</td>\n",
       "      <td>0</td>\n",
       "      <td>0</td>\n",
       "    </tr>\n",
       "  </tbody>\n",
       "</table>\n",
       "</div>"
      ],
      "text/plain": [
       "   Ad 1  Ad 2  Ad 3  Ad 4  Ad 5  Ad 6  Ad 7  Ad 8  Ad 9  Ad 10\n",
       "0     1     0     0     0     1     0     0     0     1      0\n",
       "1     0     0     0     0     0     0     0     0     1      0\n",
       "2     0     0     0     0     0     0     0     0     0      0\n",
       "3     0     1     0     0     0     0     0     1     0      0\n",
       "4     0     0     0     0     0     0     0     0     0      0"
      ]
     },
     "execution_count": 4,
     "metadata": {},
     "output_type": "execute_result"
    }
   ],
   "source": [
    "data = pd.read_csv(\"../00_data/Ads_CTR_Optimisation.csv\")\n",
    "\n",
    "data.head()"
   ]
  },
  {
   "cell_type": "code",
   "execution_count": 5,
   "id": "b1681946-e491-4898-bf3e-144323792505",
   "metadata": {},
   "outputs": [
    {
     "data": {
      "text/plain": [
       "(10000, 10)"
      ]
     },
     "execution_count": 5,
     "metadata": {},
     "output_type": "execute_result"
    }
   ],
   "source": [
    "data.shape"
   ]
  },
  {
   "cell_type": "markdown",
   "id": "d8a39095-2def-4132-83c5-e062472cd3a2",
   "metadata": {},
   "source": [
    "## Implementing UCB"
   ]
  },
  {
   "cell_type": "code",
   "execution_count": 18,
   "id": "c3a3043a-a353-4c70-9f2b-eb3d64d72ab4",
   "metadata": {},
   "outputs": [
    {
     "data": {
      "image/png": "[encoded data removed]",
      "text/plain": [
       "<Figure size 1000x400 with 2 Axes>"
      ]
     },
     "metadata": {},
     "output_type": "display_data"
    }
   ],
   "source": [
    "max_rounds, max_ads = data.shape          # NUmber of rounds, number of ads\n",
    "ads_selected  = []                        # index of selected ad during the round\n",
    "number_of_selections = np.zeros(max_ads)  # counter of selection per each ad\n",
    "sums_of_rewards = np.zeros(max_ads)       # sums of rewards per each ad\n",
    "total_reward = []                         # reward per each round\n",
    "\n",
    "for n in np.arange(0, max_rounds):\n",
    "    ad = 0\n",
    "    max_upper_bound = 0\n",
    "    for i in np.arange(0, max_ads):\n",
    "        if number_of_selections[i] > 0:\n",
    "            average_reward = sums_of_rewards[i] / number_of_selections[i]\n",
    "            delta = np.sqrt(3/2 * np.log(n + 1) / number_of_selections[i])\n",
    "            upper_bound = average_reward + delta\n",
    "        else:\n",
    "            upper_bound = np.inf\n",
    "        \n",
    "        if upper_bound > max_upper_bound:\n",
    "            max_upper_bound = upper_bound\n",
    "            ad = i\n",
    "            \n",
    "    ads_selected.append(ad)\n",
    "    number_of_selections[ad] += 1\n",
    "    reward = data.values[n, ad]\n",
    "    sums_of_rewards[ad] += reward\n",
    "    total_reward.append(reward)\n",
    "\n",
    "fig, axes = plt.subplots(1, 2, figsize=(10, 4))\n",
    "\n",
    "axes[0].hist(ads_selected)\n",
    "axes[0].set_title(\"Histogram of ads selection\")\n",
    "axes[0].set_xlabel(\"Ads\")\n",
    "axes[0].set_ylabel(\"Number of items each ad was selected\")\n",
    "\n",
    "true_ctr = np.sum(data.values, axis=0) / max_rounds  \n",
    "axes[1].plot(np.cumsum(total_reward) / (np.arange(max_rounds) + 1), label=\"Average CTR\")\n",
    "axes[1].axhline(y=max(true_ctr), linestyle=\"--\", color=\"red\", label=\"Best true CTR\")\n",
    "axes[1].set_xlabel(\"Rounds\")\n",
    "axes[1].set_ylabel(\"CTR\")\n",
    "axes[1].set_title(\"How does UCB learn to select the best ad\")\n",
    "axes[1].legend()\n",
    "axes[1].grid()\n",
    "\n",
    "plt.tight_layout()\n",
    "plt.show()"
   ]
  }
 ],
 "metadata": {
  "kernelspec": {
   "display_name": "Python 3 (ipykernel)",
   "language": "python",
   "name": "python3"
  },
  "language_info": {
   "codemirror_mode": {
    "name": "ipython",
    "version": 3
   },
   "file_extension": ".py",
   "mimetype": "text/x-python",
   "name": "python",
   "nbconvert_exporter": "python",
   "pygments_lexer": "ipython3",
   "version": "3.12.4"
  }
 },
 "nbformat": 4,
 "nbformat_minor": 5
}
