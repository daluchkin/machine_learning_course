{
 "cells": [
  {
   "cell_type": "markdown",
   "id": "83085cab-cad9-4050-8ed4-5b9a98b9e422",
   "metadata": {},
   "source": [
    "# Eclat"
   ]
  },
  {
   "cell_type": "markdown",
   "id": "3af63b00-4056-4810-8dbc-66d6ba0abdfc",
   "metadata": {},
   "source": [
    "# Dataset"
   ]
  },
  {
   "cell_type": "markdown",
   "id": "4d914874-cc85-4c1b-a593-ed4a3b0636b7",
   "metadata": {},
   "source": [
    "Each row in the dataset represents a shopping trip made by a different customer. It includes all the items they bought in that transaction, just like a receipt from a store. This helps us understand which products are often purchased together, making it useful for analyzing shopping patterns and creating better recommendations."
   ]
  },
  {
   "cell_type": "code",
   "execution_count": 1,
   "id": "2c10e1cc-ccc2-4bb2-a047-e8ac9011a97c",
   "metadata": {},
   "outputs": [
    {
     "name": "stdout",
     "output_type": "stream",
     "text": [
      "shrimp,almonds,avocado,vegetables mix,green grapes,whole weat flour,yams,cottage cheese,energy drink,tomato juice,low fat yogurt,green tea,honey,salad,mineral water,salmon,antioxydant juice,frozen smoothie,spinach,olive oil\n",
      "burgers,meatballs,eggs\n",
      "chutney\n",
      "turkey,avocado\n",
      "mineral water,milk,energy bar,whole wheat rice,green tea\n",
      "low fat yogurt\n",
      "whole wheat pasta,french fries\n",
      "soup,light cream,shallot\n",
      "frozen vegetables,spaghetti,green tea\n",
      "french fries\n",
      "cat: stdout: Broken pipe\n"
     ]
    }
   ],
   "source": [
    "%cat '../00_data/Market_Basket_Optimisation.csv'|head"
   ]
  },
  {
   "cell_type": "code",
   "execution_count": 2,
   "id": "da12da6d-373c-451d-a4ca-8dee5e6c285c",
   "metadata": {},
   "outputs": [
    {
     "name": "stdout",
     "output_type": "stream",
     "text": [
      "herb & pepper\n",
      "chocolate,escalope\n",
      "burgers,salmon,pancakes,french fries,frozen smoothie,fresh bread,mint\n",
      "turkey,burgers,dessert wine,shrimp,pasta,tomatoes,pepper,milk,pancakes,whole wheat rice,oil,frozen smoothie\n",
      "pancakes,light mayo\n",
      "butter,light mayo,fresh bread\n",
      "burgers,frozen vegetables,eggs,french fries,magazines,green tea\n",
      "chicken\n",
      "escalope,green tea\n",
      "eggs,frozen smoothie,yogurt cake,low fat yogurt\n"
     ]
    }
   ],
   "source": [
    "%cat '../00_data/Market_Basket_Optimisation.csv'|tail"
   ]
  },
  {
   "cell_type": "markdown",
   "id": "2cd15c65-4d94-4753-93f0-c0b1261d2270",
   "metadata": {},
   "source": [
    "## Libraries Loading"
   ]
  },
  {
   "cell_type": "code",
   "execution_count": 3,
   "id": "3623a14d-46a1-4a99-a920-7f596a5c3a27",
   "metadata": {},
   "outputs": [],
   "source": [
    "import pandas as pd\n",
    "import numpy as np\n",
    "import matplotlib.pyplot as plt"
   ]
  },
  {
   "cell_type": "markdown",
   "id": "b4a4b2f2-2feb-44e7-81f7-8f5d155d7843",
   "metadata": {},
   "source": [
    "## Data Loading\n",
    "\n",
    "> **Note!** There is no header in the dataset."
   ]
  },
  {
   "cell_type": "code",
   "execution_count": 4,
   "id": "b3b93df7-f807-4e55-b989-d58f62c1a30e",
   "metadata": {},
   "outputs": [
    {
     "data": {
      "text/html": [
       "<div>\n",
       "<style scoped>\n",
       "    .dataframe tbody tr th:only-of-type {\n",
       "        vertical-align: middle;\n",
       "    }\n",
       "\n",
       "    .dataframe tbody tr th {\n",
       "        vertical-align: top;\n",
       "    }\n",
       "\n",
       "    .dataframe thead th {\n",
       "        text-align: right;\n",
       "    }\n",
       "</style>\n",
       "<table border=\"1\" class=\"dataframe\">\n",
       "  <thead>\n",
       "    <tr style=\"text-align: right;\">\n",
       "      <th></th>\n",
       "      <th>0</th>\n",
       "      <th>1</th>\n",
       "      <th>2</th>\n",
       "      <th>3</th>\n",
       "      <th>4</th>\n",
       "      <th>5</th>\n",
       "      <th>6</th>\n",
       "      <th>7</th>\n",
       "      <th>8</th>\n",
       "      <th>9</th>\n",
       "      <th>10</th>\n",
       "      <th>11</th>\n",
       "      <th>12</th>\n",
       "      <th>13</th>\n",
       "      <th>14</th>\n",
       "      <th>15</th>\n",
       "      <th>16</th>\n",
       "      <th>17</th>\n",
       "      <th>18</th>\n",
       "      <th>19</th>\n",
       "    </tr>\n",
       "  </thead>\n",
       "  <tbody>\n",
       "    <tr>\n",
       "      <th>0</th>\n",
       "      <td>shrimp</td>\n",
       "      <td>almonds</td>\n",
       "      <td>avocado</td>\n",
       "      <td>vegetables mix</td>\n",
       "      <td>green grapes</td>\n",
       "      <td>whole weat flour</td>\n",
       "      <td>yams</td>\n",
       "      <td>cottage cheese</td>\n",
       "      <td>energy drink</td>\n",
       "      <td>tomato juice</td>\n",
       "      <td>low fat yogurt</td>\n",
       "      <td>green tea</td>\n",
       "      <td>honey</td>\n",
       "      <td>salad</td>\n",
       "      <td>mineral water</td>\n",
       "      <td>salmon</td>\n",
       "      <td>antioxydant juice</td>\n",
       "      <td>frozen smoothie</td>\n",
       "      <td>spinach</td>\n",
       "      <td>olive oil</td>\n",
       "    </tr>\n",
       "    <tr>\n",
       "      <th>1</th>\n",
       "      <td>burgers</td>\n",
       "      <td>meatballs</td>\n",
       "      <td>eggs</td>\n",
       "      <td>NaN</td>\n",
       "      <td>NaN</td>\n",
       "      <td>NaN</td>\n",
       "      <td>NaN</td>\n",
       "      <td>NaN</td>\n",
       "      <td>NaN</td>\n",
       "      <td>NaN</td>\n",
       "      <td>NaN</td>\n",
       "      <td>NaN</td>\n",
       "      <td>NaN</td>\n",
       "      <td>NaN</td>\n",
       "      <td>NaN</td>\n",
       "      <td>NaN</td>\n",
       "      <td>NaN</td>\n",
       "      <td>NaN</td>\n",
       "      <td>NaN</td>\n",
       "      <td>NaN</td>\n",
       "    </tr>\n",
       "    <tr>\n",
       "      <th>2</th>\n",
       "      <td>chutney</td>\n",
       "      <td>NaN</td>\n",
       "      <td>NaN</td>\n",
       "      <td>NaN</td>\n",
       "      <td>NaN</td>\n",
       "      <td>NaN</td>\n",
       "      <td>NaN</td>\n",
       "      <td>NaN</td>\n",
       "      <td>NaN</td>\n",
       "      <td>NaN</td>\n",
       "      <td>NaN</td>\n",
       "      <td>NaN</td>\n",
       "      <td>NaN</td>\n",
       "      <td>NaN</td>\n",
       "      <td>NaN</td>\n",
       "      <td>NaN</td>\n",
       "      <td>NaN</td>\n",
       "      <td>NaN</td>\n",
       "      <td>NaN</td>\n",
       "      <td>NaN</td>\n",
       "    </tr>\n",
       "    <tr>\n",
       "      <th>3</th>\n",
       "      <td>turkey</td>\n",
       "      <td>avocado</td>\n",
       "      <td>NaN</td>\n",
       "      <td>NaN</td>\n",
       "      <td>NaN</td>\n",
       "      <td>NaN</td>\n",
       "      <td>NaN</td>\n",
       "      <td>NaN</td>\n",
       "      <td>NaN</td>\n",
       "      <td>NaN</td>\n",
       "      <td>NaN</td>\n",
       "      <td>NaN</td>\n",
       "      <td>NaN</td>\n",
       "      <td>NaN</td>\n",
       "      <td>NaN</td>\n",
       "      <td>NaN</td>\n",
       "      <td>NaN</td>\n",
       "      <td>NaN</td>\n",
       "      <td>NaN</td>\n",
       "      <td>NaN</td>\n",
       "    </tr>\n",
       "    <tr>\n",
       "      <th>4</th>\n",
       "      <td>mineral water</td>\n",
       "      <td>milk</td>\n",
       "      <td>energy bar</td>\n",
       "      <td>whole wheat rice</td>\n",
       "      <td>green tea</td>\n",
       "      <td>NaN</td>\n",
       "      <td>NaN</td>\n",
       "      <td>NaN</td>\n",
       "      <td>NaN</td>\n",
       "      <td>NaN</td>\n",
       "      <td>NaN</td>\n",
       "      <td>NaN</td>\n",
       "      <td>NaN</td>\n",
       "      <td>NaN</td>\n",
       "      <td>NaN</td>\n",
       "      <td>NaN</td>\n",
       "      <td>NaN</td>\n",
       "      <td>NaN</td>\n",
       "      <td>NaN</td>\n",
       "      <td>NaN</td>\n",
       "    </tr>\n",
       "  </tbody>\n",
       "</table>\n",
       "</div>"
      ],
      "text/plain": [
       "              0          1           2                 3             4   \\\n",
       "0         shrimp    almonds     avocado    vegetables mix  green grapes   \n",
       "1        burgers  meatballs        eggs               NaN           NaN   \n",
       "2        chutney        NaN         NaN               NaN           NaN   \n",
       "3         turkey    avocado         NaN               NaN           NaN   \n",
       "4  mineral water       milk  energy bar  whole wheat rice     green tea   \n",
       "\n",
       "                 5     6               7             8             9   \\\n",
       "0  whole weat flour  yams  cottage cheese  energy drink  tomato juice   \n",
       "1               NaN   NaN             NaN           NaN           NaN   \n",
       "2               NaN   NaN             NaN           NaN           NaN   \n",
       "3               NaN   NaN             NaN           NaN           NaN   \n",
       "4               NaN   NaN             NaN           NaN           NaN   \n",
       "\n",
       "               10         11     12     13             14      15  \\\n",
       "0  low fat yogurt  green tea  honey  salad  mineral water  salmon   \n",
       "1             NaN        NaN    NaN    NaN            NaN     NaN   \n",
       "2             NaN        NaN    NaN    NaN            NaN     NaN   \n",
       "3             NaN        NaN    NaN    NaN            NaN     NaN   \n",
       "4             NaN        NaN    NaN    NaN            NaN     NaN   \n",
       "\n",
       "                  16               17       18         19  \n",
       "0  antioxydant juice  frozen smoothie  spinach  olive oil  \n",
       "1                NaN              NaN      NaN        NaN  \n",
       "2                NaN              NaN      NaN        NaN  \n",
       "3                NaN              NaN      NaN        NaN  \n",
       "4                NaN              NaN      NaN        NaN  "
      ]
     },
     "execution_count": 4,
     "metadata": {},
     "output_type": "execute_result"
    }
   ],
   "source": [
    "df = pd.read_csv('../00_data/Market_Basket_Optimisation.csv', decimal='.', sep=',', header=None, na_values=pd.NA)\n",
    "\n",
    "df.head()"
   ]
  },
  {
   "cell_type": "code",
   "execution_count": 5,
   "id": "a68ef018-83d1-4583-a1cc-d7a073715456",
   "metadata": {},
   "outputs": [
    {
     "data": {
      "text/plain": [
       "(7501, 20)"
      ]
     },
     "execution_count": 5,
     "metadata": {},
     "output_type": "execute_result"
    }
   ],
   "source": [
    "df.shape"
   ]
  },
  {
   "cell_type": "code",
   "execution_count": 6,
   "id": "565fe2ca-14aa-464d-8da8-645cdb829912",
   "metadata": {},
   "outputs": [
    {
     "name": "stdout",
     "output_type": "stream",
     "text": [
      "<class 'pandas.core.frame.DataFrame'>\n",
      "RangeIndex: 7501 entries, 0 to 7500\n",
      "Data columns (total 20 columns):\n",
      " #   Column  Non-Null Count  Dtype \n",
      "---  ------  --------------  ----- \n",
      " 0   0       7501 non-null   object\n",
      " 1   1       5747 non-null   object\n",
      " 2   2       4389 non-null   object\n",
      " 3   3       3345 non-null   object\n",
      " 4   4       2529 non-null   object\n",
      " 5   5       1864 non-null   object\n",
      " 6   6       1369 non-null   object\n",
      " 7   7       981 non-null    object\n",
      " 8   8       654 non-null    object\n",
      " 9   9       395 non-null    object\n",
      " 10  10      256 non-null    object\n",
      " 11  11      154 non-null    object\n",
      " 12  12      87 non-null     object\n",
      " 13  13      47 non-null     object\n",
      " 14  14      25 non-null     object\n",
      " 15  15      8 non-null      object\n",
      " 16  16      4 non-null      object\n",
      " 17  17      4 non-null      object\n",
      " 18  18      3 non-null      object\n",
      " 19  19      1 non-null      object\n",
      "dtypes: object(20)\n",
      "memory usage: 1.1+ MB\n"
     ]
    }
   ],
   "source": [
    "df.info()"
   ]
  },
  {
   "cell_type": "code",
   "execution_count": 7,
   "id": "437856d1-aff5-451e-849b-1ca1d072f29a",
   "metadata": {},
   "outputs": [
    {
     "data": {
      "text/plain": [
       "0        0\n",
       "1     1754\n",
       "2     3112\n",
       "3     4156\n",
       "4     4972\n",
       "5     5637\n",
       "6     6132\n",
       "7     6520\n",
       "8     6847\n",
       "9     7106\n",
       "10    7245\n",
       "11    7347\n",
       "12    7414\n",
       "13    7454\n",
       "14    7476\n",
       "15    7493\n",
       "16    7497\n",
       "17    7497\n",
       "18    7498\n",
       "19    7500\n",
       "dtype: int64"
      ]
     },
     "execution_count": 7,
     "metadata": {},
     "output_type": "execute_result"
    }
   ],
   "source": [
    "np.sum(df.isna(), axis=0)"
   ]
  },
  {
   "cell_type": "markdown",
   "id": "6a509f68-2ed6-40cd-8776-9638b204dbcf",
   "metadata": {},
   "source": [
    "## Data Preprocessing"
   ]
  },
  {
   "cell_type": "code",
   "execution_count": 8,
   "id": "e2952143-8d94-44f1-9824-c8673dedf14e",
   "metadata": {},
   "outputs": [
    {
     "data": {
      "text/plain": [
       "[['shrimp',\n",
       "  'almonds',\n",
       "  'avocado',\n",
       "  'vegetables mix',\n",
       "  'green grapes',\n",
       "  'whole weat flour',\n",
       "  'yams',\n",
       "  'cottage cheese',\n",
       "  'energy drink',\n",
       "  'tomato juice',\n",
       "  'low fat yogurt',\n",
       "  'green tea',\n",
       "  'honey',\n",
       "  'salad',\n",
       "  'mineral water',\n",
       "  'salmon',\n",
       "  'antioxydant juice',\n",
       "  'frozen smoothie',\n",
       "  'spinach',\n",
       "  'olive oil'],\n",
       " ['burgers', 'meatballs', 'eggs'],\n",
       " ['chutney'],\n",
       " ['turkey', 'avocado'],\n",
       " ['mineral water', 'milk', 'energy bar', 'whole wheat rice', 'green tea']]"
      ]
     },
     "execution_count": 8,
     "metadata": {},
     "output_type": "execute_result"
    }
   ],
   "source": [
    "transactions = []\n",
    "for i in range(0, df.shape[0]):\n",
    "    transactions.append([str(df.values[i, j]) for j in range(0, df.shape[1]) if not pd.isna(df.values[i, j])])\n",
    "\n",
    "transactions[:5]"
   ]
  },
  {
   "cell_type": "markdown",
   "id": "7d6e517e-3a88-4601-b766-595d07855ac8",
   "metadata": {},
   "source": [
    "## Library `apyori`"
   ]
  },
  {
   "cell_type": "markdown",
   "id": "3a8124bf-67c5-431d-abaf-ae95ec1de54a",
   "metadata": {},
   "source": [
    "> **Note!** This is simulation of the `Eclat` algorithm with the `apyori` library."
   ]
  },
  {
   "cell_type": "code",
   "execution_count": 9,
   "id": "91e3ece7-0f85-4a95-8c09-9853d2fa254e",
   "metadata": {},
   "outputs": [],
   "source": [
    "#!pip3 install apyori"
   ]
  },
  {
   "cell_type": "code",
   "execution_count": 10,
   "id": "9314ca82-46c0-43cc-b696-870082212c0e",
   "metadata": {},
   "outputs": [],
   "source": [
    "from apyori import apriori as apyori_apriori\n",
    "\n",
    "itemsets = apyori_apriori(transactions=transactions, \n",
    "                # the item must appear in at least 3 transactions per day for a week\n",
    "                # as minimum to include it into the analisys\n",
    "                # 3 * 7 / 7501\n",
    "                min_support=0.003,\n",
    "                #min_confidence=0.2,\n",
    "                #min_lift=3,\n",
    "                # consider sets with 2 items\n",
    "                #min_length=2, \n",
    "                #max_length=2\n",
    "                         )\n",
    "results = list(itemsets)"
   ]
  },
  {
   "cell_type": "markdown",
   "id": "13eaa17e-2fc2-4b69-b623-b604cc8ff7b6",
   "metadata": {},
   "source": [
    "### Inspect the well organized rules"
   ]
  },
  {
   "cell_type": "code",
   "execution_count": 11,
   "id": "ae5daf22-3b82-429a-8427-84b1cd31fe79",
   "metadata": {},
   "outputs": [],
   "source": [
    "def inspect(results):\n",
    "    lhs = [tuple(stat.items_base)[0] if stat.items_base else None  for result in results for stat in result.ordered_statistics]\n",
    "    rhs = [tuple(stat.items_add)[0]if stat.items_add else None for result in results for stat in result.ordered_statistics]\n",
    "    supports = [result.support for result in results for _ in result.ordered_statistics]\n",
    "    \n",
    "    rules_list = [(lhs, rhs, support) for lhs, rhs, support in zip(lhs, rhs, supports) if lhs is not None and rhs is not None]\n",
    "\n",
    "    # make Data frame\n",
    "    df = pd.DataFrame(rules_list, \n",
    "                  columns=['Product 1', \n",
    "                           'Product 2', \n",
    "                           'Support'])\n",
    "    \n",
    "    return df\n"
   ]
  },
  {
   "cell_type": "code",
   "execution_count": 12,
   "id": "dd6084bf-09e5-410e-8050-eeb0095e1ed7",
   "metadata": {},
   "outputs": [
    {
     "data": {
      "text/html": [
       "<div>\n",
       "<style scoped>\n",
       "    .dataframe tbody tr th:only-of-type {\n",
       "        vertical-align: middle;\n",
       "    }\n",
       "\n",
       "    .dataframe tbody tr th {\n",
       "        vertical-align: top;\n",
       "    }\n",
       "\n",
       "    .dataframe thead th {\n",
       "        text-align: right;\n",
       "    }\n",
       "</style>\n",
       "<table border=\"1\" class=\"dataframe\">\n",
       "  <thead>\n",
       "    <tr style=\"text-align: right;\">\n",
       "      <th></th>\n",
       "      <th>Product 1</th>\n",
       "      <th>Product 2</th>\n",
       "      <th>Support</th>\n",
       "    </tr>\n",
       "  </thead>\n",
       "  <tbody>\n",
       "    <tr>\n",
       "      <th>0</th>\n",
       "      <td>almonds</td>\n",
       "      <td>burgers</td>\n",
       "      <td>0.005199</td>\n",
       "    </tr>\n",
       "    <tr>\n",
       "      <th>2</th>\n",
       "      <td>almonds</td>\n",
       "      <td>cake</td>\n",
       "      <td>0.003066</td>\n",
       "    </tr>\n",
       "    <tr>\n",
       "      <th>4</th>\n",
       "      <td>almonds</td>\n",
       "      <td>chocolate</td>\n",
       "      <td>0.005999</td>\n",
       "    </tr>\n",
       "    <tr>\n",
       "      <th>6</th>\n",
       "      <td>almonds</td>\n",
       "      <td>eggs</td>\n",
       "      <td>0.006532</td>\n",
       "    </tr>\n",
       "    <tr>\n",
       "      <th>8</th>\n",
       "      <td>almonds</td>\n",
       "      <td>french fries</td>\n",
       "      <td>0.004399</td>\n",
       "    </tr>\n",
       "    <tr>\n",
       "      <th>...</th>\n",
       "      <td>...</td>\n",
       "      <td>...</td>\n",
       "      <td>...</td>\n",
       "    </tr>\n",
       "    <tr>\n",
       "      <th>1562</th>\n",
       "      <td>tomato juice</td>\n",
       "      <td>turkey</td>\n",
       "      <td>0.003200</td>\n",
       "    </tr>\n",
       "    <tr>\n",
       "      <th>1564</th>\n",
       "      <td>tomatoes</td>\n",
       "      <td>turkey</td>\n",
       "      <td>0.006532</td>\n",
       "    </tr>\n",
       "    <tr>\n",
       "      <th>1566</th>\n",
       "      <td>tomatoes</td>\n",
       "      <td>vegetables mix</td>\n",
       "      <td>0.003200</td>\n",
       "    </tr>\n",
       "    <tr>\n",
       "      <th>1568</th>\n",
       "      <td>tomatoes</td>\n",
       "      <td>whole wheat rice</td>\n",
       "      <td>0.005999</td>\n",
       "    </tr>\n",
       "    <tr>\n",
       "      <th>1570</th>\n",
       "      <td>turkey</td>\n",
       "      <td>whole wheat rice</td>\n",
       "      <td>0.007066</td>\n",
       "    </tr>\n",
       "  </tbody>\n",
       "</table>\n",
       "<p>786 rows × 3 columns</p>\n",
       "</div>"
      ],
      "text/plain": [
       "         Product 1         Product 2   Support\n",
       "0          almonds           burgers  0.005199\n",
       "2          almonds              cake  0.003066\n",
       "4          almonds         chocolate  0.005999\n",
       "6          almonds              eggs  0.006532\n",
       "8          almonds      french fries  0.004399\n",
       "...            ...               ...       ...\n",
       "1562  tomato juice            turkey  0.003200\n",
       "1564      tomatoes            turkey  0.006532\n",
       "1566      tomatoes    vegetables mix  0.003200\n",
       "1568      tomatoes  whole wheat rice  0.005999\n",
       "1570        turkey  whole wheat rice  0.007066\n",
       "\n",
       "[786 rows x 3 columns]"
      ]
     },
     "execution_count": 12,
     "metadata": {},
     "output_type": "execute_result"
    }
   ],
   "source": [
    "results_df = inspect(results)\n",
    "results_df = results_df[results_df['Product 1'].notnull() & results_df['Product 2'].notnull()]\n",
    "# normalize order\n",
    "results_df[['Product 1', 'Product 2']] = results_df[['Product 1', 'Product 2']].apply(lambda x: sorted(x), axis=1, result_type='expand')\n",
    "# Remove duplicate rules\n",
    "results_df = results_df.drop_duplicates(subset=['Product 1', 'Product 2'])\n",
    "results_df"
   ]
  },
  {
   "cell_type": "code",
   "execution_count": 13,
   "id": "609460c1-decd-40b5-a2cc-fb0ef4fd4c64",
   "metadata": {},
   "outputs": [
    {
     "data": {
      "text/html": [
       "<div>\n",
       "<style scoped>\n",
       "    .dataframe tbody tr th:only-of-type {\n",
       "        vertical-align: middle;\n",
       "    }\n",
       "\n",
       "    .dataframe tbody tr th {\n",
       "        vertical-align: top;\n",
       "    }\n",
       "\n",
       "    .dataframe thead th {\n",
       "        text-align: right;\n",
       "    }\n",
       "</style>\n",
       "<table border=\"1\" class=\"dataframe\">\n",
       "  <thead>\n",
       "    <tr style=\"text-align: right;\">\n",
       "      <th></th>\n",
       "      <th>Product 1</th>\n",
       "      <th>Product 2</th>\n",
       "      <th>Support</th>\n",
       "    </tr>\n",
       "  </thead>\n",
       "  <tbody>\n",
       "    <tr>\n",
       "      <th>1394</th>\n",
       "      <td>mineral water</td>\n",
       "      <td>spaghetti</td>\n",
       "      <td>0.059725</td>\n",
       "    </tr>\n",
       "    <tr>\n",
       "      <th>482</th>\n",
       "      <td>chocolate</td>\n",
       "      <td>mineral water</td>\n",
       "      <td>0.052660</td>\n",
       "    </tr>\n",
       "    <tr>\n",
       "      <th>678</th>\n",
       "      <td>eggs</td>\n",
       "      <td>mineral water</td>\n",
       "      <td>0.050927</td>\n",
       "    </tr>\n",
       "    <tr>\n",
       "      <th>1324</th>\n",
       "      <td>milk</td>\n",
       "      <td>mineral water</td>\n",
       "      <td>0.047994</td>\n",
       "    </tr>\n",
       "    <tr>\n",
       "      <th>1154</th>\n",
       "      <td>ground beef</td>\n",
       "      <td>mineral water</td>\n",
       "      <td>0.040928</td>\n",
       "    </tr>\n",
       "    <tr>\n",
       "      <th>512</th>\n",
       "      <td>chocolate</td>\n",
       "      <td>spaghetti</td>\n",
       "      <td>0.039195</td>\n",
       "    </tr>\n",
       "    <tr>\n",
       "      <th>1178</th>\n",
       "      <td>ground beef</td>\n",
       "      <td>spaghetti</td>\n",
       "      <td>0.039195</td>\n",
       "    </tr>\n",
       "    <tr>\n",
       "      <th>706</th>\n",
       "      <td>eggs</td>\n",
       "      <td>spaghetti</td>\n",
       "      <td>0.036528</td>\n",
       "    </tr>\n",
       "    <tr>\n",
       "      <th>640</th>\n",
       "      <td>eggs</td>\n",
       "      <td>french fries</td>\n",
       "      <td>0.036395</td>\n",
       "    </tr>\n",
       "    <tr>\n",
       "      <th>1014</th>\n",
       "      <td>frozen vegetables</td>\n",
       "      <td>mineral water</td>\n",
       "      <td>0.035729</td>\n",
       "    </tr>\n",
       "  </tbody>\n",
       "</table>\n",
       "</div>"
      ],
      "text/plain": [
       "              Product 1      Product 2   Support\n",
       "1394      mineral water      spaghetti  0.059725\n",
       "482           chocolate  mineral water  0.052660\n",
       "678                eggs  mineral water  0.050927\n",
       "1324               milk  mineral water  0.047994\n",
       "1154        ground beef  mineral water  0.040928\n",
       "512           chocolate      spaghetti  0.039195\n",
       "1178        ground beef      spaghetti  0.039195\n",
       "706                eggs      spaghetti  0.036528\n",
       "640                eggs   french fries  0.036395\n",
       "1014  frozen vegetables  mineral water  0.035729"
      ]
     },
     "execution_count": 13,
     "metadata": {},
     "output_type": "execute_result"
    }
   ],
   "source": [
    "results_df.nlargest(n = 10, columns=['Support'])"
   ]
  },
  {
   "cell_type": "markdown",
   "id": "7c227901-d5fe-49f2-b45b-79cf14f18fb1",
   "metadata": {},
   "source": [
    "## Library `mlxtend`"
   ]
  },
  {
   "cell_type": "markdown",
   "id": "4bc9f0d2-8ddc-48ac-a2b7-9971c3652c13",
   "metadata": {},
   "source": [
    "> **Note!** This is simulation of the `Eclat` algorithm with the `mlxtend` library."
   ]
  },
  {
   "cell_type": "code",
   "execution_count": 14,
   "id": "b1c9518e-a438-441d-8d2b-0eefc9b7900a",
   "metadata": {},
   "outputs": [],
   "source": [
    "#!pip install mlxtend"
   ]
  },
  {
   "cell_type": "code",
   "execution_count": 15,
   "id": "d1de6f0a-1f93-4462-9616-01d9c5c9f6ed",
   "metadata": {},
   "outputs": [],
   "source": [
    "from mlxtend.frequent_patterns import apriori as mlxtend_apriori\n",
    "from mlxtend.preprocessing import TransactionEncoder"
   ]
  },
  {
   "cell_type": "markdown",
   "id": "8d430149-178c-42c2-9bef-c7fa4868c67f",
   "metadata": {},
   "source": [
    "### Find the optimal `min_support`"
   ]
  },
  {
   "cell_type": "code",
   "execution_count": 16,
   "id": "74893c51-19b4-4ebb-9b28-1fc9d736dd46",
   "metadata": {},
   "outputs": [],
   "source": [
    "def find_elbow(x, y):\n",
    "    second_derivative = np.gradient(np.gradient(y))\n",
    "    elbow_idx = np.argmax(second_derivative)  # Maximum curvature point\n",
    "    return x[elbow_idx]"
   ]
  },
  {
   "cell_type": "code",
   "execution_count": 17,
   "id": "f8b56134-46f1-4a71-9d1c-d45045e9b4b4",
   "metadata": {},
   "outputs": [
    {
     "name": "stdout",
     "output_type": "stream",
     "text": [
      "Elbow Point: 0.002\n"
     ]
    },
    {
     "data": {
      "image/png": "[encoded data removed]",
      "text/plain": [
       "<Figure size 1000x500 with 1 Axes>"
      ]
     },
     "metadata": {},
     "output_type": "display_data"
    }
   ],
   "source": [
    "te = TransactionEncoder()\n",
    "transactions_encoded = te.fit_transform(transactions)\n",
    "transactions_df = pd.DataFrame(transactions_encoded, columns=te.columns_)\n",
    "\n",
    "# find the optimal min_support\n",
    "support_values = np.linspace(0.001, 0.01, 10)  # 0,1%-1%\n",
    "results = {}\n",
    "\n",
    "for support in support_values:\n",
    "    frequent_itemsets = mlxtend_apriori(transactions_df, min_support=support, use_colnames=True)\n",
    "    results[support] = len(frequent_itemsets)\n",
    "\n",
    "elbow = find_elbow(list(results.keys()), list(results.values()))\n",
    "print(f\"Elbow Point: {elbow}\")\n",
    "\n",
    "plt.figure(figsize=(10, 5))\n",
    "plt.plot(list(results.keys()), list(results.values()), marker='o')\n",
    "plt.axvline(elbow, color='r', linestyle='--', label=f'Elbow at {elbow}')\n",
    "plt.xlabel('`min_support`')\n",
    "plt.ylabel('Number of Frequent Itemsets')\n",
    "plt.title('Optimal `min_support` selection')\n",
    "plt.legend()\n",
    "plt.show()"
   ]
  },
  {
   "cell_type": "markdown",
   "id": "1cacb87d-8a7d-4908-80bb-a066c30e1067",
   "metadata": {},
   "source": [
    "+ If `min_support` is too **low**, many itemsets appear, including insignificant ones.\n",
    "+ If `min_support` is too **high**, useful patterns may disappear.\n",
    "+ The optimal `min_support` is found at the \"elbow\" of the graph, where the curve sharply drops and then stabilizes.\n",
    "\n",
    "The value $0.002$ is the optimal value of `min_support`."
   ]
  },
  {
   "cell_type": "code",
   "execution_count": 18,
   "id": "b30be283-1b48-4e7b-be1f-e26388aece72",
   "metadata": {},
   "outputs": [],
   "source": [
    "# simulate Eclat\n",
    "frequent_itemsets = mlxtend_apriori(transactions_df, min_support=0.002, use_colnames=True)"
   ]
  },
  {
   "cell_type": "markdown",
   "id": "ce745cf9-46d6-434a-a132-3204ec37cf25",
   "metadata": {},
   "source": [
    "### Inspect the well organized rules"
   ]
  },
  {
   "cell_type": "code",
   "execution_count": 19,
   "id": "7b9b02ef-1ee8-486f-9962-1cbc9d8b877e",
   "metadata": {},
   "outputs": [
    {
     "data": {
      "text/html": [
       "<div>\n",
       "<style scoped>\n",
       "    .dataframe tbody tr th:only-of-type {\n",
       "        vertical-align: middle;\n",
       "    }\n",
       "\n",
       "    .dataframe tbody tr th {\n",
       "        vertical-align: top;\n",
       "    }\n",
       "\n",
       "    .dataframe thead th {\n",
       "        text-align: right;\n",
       "    }\n",
       "</style>\n",
       "<table border=\"1\" class=\"dataframe\">\n",
       "  <thead>\n",
       "    <tr style=\"text-align: right;\">\n",
       "      <th></th>\n",
       "      <th>product 1</th>\n",
       "      <th>product 2</th>\n",
       "      <th>support</th>\n",
       "    </tr>\n",
       "  </thead>\n",
       "  <tbody>\n",
       "    <tr>\n",
       "      <th>1125</th>\n",
       "      <td>mineral water</td>\n",
       "      <td>spaghetti</td>\n",
       "      <td>0.059725</td>\n",
       "    </tr>\n",
       "    <tr>\n",
       "      <th>473</th>\n",
       "      <td>chocolate</td>\n",
       "      <td>mineral water</td>\n",
       "      <td>0.052660</td>\n",
       "    </tr>\n",
       "    <tr>\n",
       "      <th>618</th>\n",
       "      <td>eggs</td>\n",
       "      <td>mineral water</td>\n",
       "      <td>0.050927</td>\n",
       "    </tr>\n",
       "    <tr>\n",
       "      <th>1081</th>\n",
       "      <td>milk</td>\n",
       "      <td>mineral water</td>\n",
       "      <td>0.047994</td>\n",
       "    </tr>\n",
       "    <tr>\n",
       "      <th>953</th>\n",
       "      <td>ground beef</td>\n",
       "      <td>mineral water</td>\n",
       "      <td>0.040928</td>\n",
       "    </tr>\n",
       "    <tr>\n",
       "      <th>489</th>\n",
       "      <td>chocolate</td>\n",
       "      <td>spaghetti</td>\n",
       "      <td>0.039195</td>\n",
       "    </tr>\n",
       "    <tr>\n",
       "      <th>968</th>\n",
       "      <td>ground beef</td>\n",
       "      <td>spaghetti</td>\n",
       "      <td>0.039195</td>\n",
       "    </tr>\n",
       "    <tr>\n",
       "      <th>635</th>\n",
       "      <td>eggs</td>\n",
       "      <td>spaghetti</td>\n",
       "      <td>0.036528</td>\n",
       "    </tr>\n",
       "    <tr>\n",
       "      <th>596</th>\n",
       "      <td>eggs</td>\n",
       "      <td>french fries</td>\n",
       "      <td>0.036395</td>\n",
       "    </tr>\n",
       "    <tr>\n",
       "      <th>852</th>\n",
       "      <td>frozen vegetables</td>\n",
       "      <td>mineral water</td>\n",
       "      <td>0.035729</td>\n",
       "    </tr>\n",
       "  </tbody>\n",
       "</table>\n",
       "</div>"
      ],
      "text/plain": [
       "              product 1      product 2   support\n",
       "1125      mineral water      spaghetti  0.059725\n",
       "473           chocolate  mineral water  0.052660\n",
       "618                eggs  mineral water  0.050927\n",
       "1081               milk  mineral water  0.047994\n",
       "953         ground beef  mineral water  0.040928\n",
       "489           chocolate      spaghetti  0.039195\n",
       "968         ground beef      spaghetti  0.039195\n",
       "635                eggs      spaghetti  0.036528\n",
       "596                eggs   french fries  0.036395\n",
       "852   frozen vegetables  mineral water  0.035729"
      ]
     },
     "execution_count": 19,
     "metadata": {},
     "output_type": "execute_result"
    }
   ],
   "source": [
    "frequent_itemsets = frequent_itemsets[frequent_itemsets['itemsets'].apply(lambda x: len(x) == 2)]\n",
    "\n",
    "frequent_itemsets[['product 1', 'product 2']] = frequent_itemsets['itemsets'].apply(lambda x: pd.Series(list(x)))\n",
    "frequent_itemsets = frequent_itemsets[['product 1', 'product 2', 'support']]\n",
    "frequent_itemsets[['product 1', 'product 2']] = frequent_itemsets[['product 1', 'product 2']].apply(lambda x: sorted(x), axis=1, result_type='expand')\n",
    "frequent_itemsets = frequent_itemsets.drop_duplicates(subset=['product 1', 'product 2'])\n",
    "\n",
    "frequent_itemsets.nlargest(n=10, columns=['support'])"
   ]
  },
  {
   "cell_type": "code",
   "execution_count": 20,
   "id": "5c06c675-c686-40c7-8df9-90b05149180a",
   "metadata": {},
   "outputs": [
    {
     "data": {
      "text/html": [
       "<div>\n",
       "<style scoped>\n",
       "    .dataframe tbody tr th:only-of-type {\n",
       "        vertical-align: middle;\n",
       "    }\n",
       "\n",
       "    .dataframe tbody tr th {\n",
       "        vertical-align: top;\n",
       "    }\n",
       "\n",
       "    .dataframe thead th {\n",
       "        text-align: right;\n",
       "    }\n",
       "</style>\n",
       "<table border=\"1\" class=\"dataframe\">\n",
       "  <thead>\n",
       "    <tr style=\"text-align: right;\">\n",
       "      <th></th>\n",
       "      <th>Product 1</th>\n",
       "      <th>Product 2</th>\n",
       "      <th>Support</th>\n",
       "    </tr>\n",
       "  </thead>\n",
       "  <tbody>\n",
       "    <tr>\n",
       "      <th>1394</th>\n",
       "      <td>mineral water</td>\n",
       "      <td>spaghetti</td>\n",
       "      <td>0.059725</td>\n",
       "    </tr>\n",
       "    <tr>\n",
       "      <th>482</th>\n",
       "      <td>chocolate</td>\n",
       "      <td>mineral water</td>\n",
       "      <td>0.052660</td>\n",
       "    </tr>\n",
       "    <tr>\n",
       "      <th>678</th>\n",
       "      <td>eggs</td>\n",
       "      <td>mineral water</td>\n",
       "      <td>0.050927</td>\n",
       "    </tr>\n",
       "    <tr>\n",
       "      <th>1324</th>\n",
       "      <td>milk</td>\n",
       "      <td>mineral water</td>\n",
       "      <td>0.047994</td>\n",
       "    </tr>\n",
       "    <tr>\n",
       "      <th>1154</th>\n",
       "      <td>ground beef</td>\n",
       "      <td>mineral water</td>\n",
       "      <td>0.040928</td>\n",
       "    </tr>\n",
       "    <tr>\n",
       "      <th>512</th>\n",
       "      <td>chocolate</td>\n",
       "      <td>spaghetti</td>\n",
       "      <td>0.039195</td>\n",
       "    </tr>\n",
       "    <tr>\n",
       "      <th>1178</th>\n",
       "      <td>ground beef</td>\n",
       "      <td>spaghetti</td>\n",
       "      <td>0.039195</td>\n",
       "    </tr>\n",
       "    <tr>\n",
       "      <th>706</th>\n",
       "      <td>eggs</td>\n",
       "      <td>spaghetti</td>\n",
       "      <td>0.036528</td>\n",
       "    </tr>\n",
       "    <tr>\n",
       "      <th>640</th>\n",
       "      <td>eggs</td>\n",
       "      <td>french fries</td>\n",
       "      <td>0.036395</td>\n",
       "    </tr>\n",
       "    <tr>\n",
       "      <th>1014</th>\n",
       "      <td>frozen vegetables</td>\n",
       "      <td>mineral water</td>\n",
       "      <td>0.035729</td>\n",
       "    </tr>\n",
       "  </tbody>\n",
       "</table>\n",
       "</div>"
      ],
      "text/plain": [
       "              Product 1      Product 2   Support\n",
       "1394      mineral water      spaghetti  0.059725\n",
       "482           chocolate  mineral water  0.052660\n",
       "678                eggs  mineral water  0.050927\n",
       "1324               milk  mineral water  0.047994\n",
       "1154        ground beef  mineral water  0.040928\n",
       "512           chocolate      spaghetti  0.039195\n",
       "1178        ground beef      spaghetti  0.039195\n",
       "706                eggs      spaghetti  0.036528\n",
       "640                eggs   french fries  0.036395\n",
       "1014  frozen vegetables  mineral water  0.035729"
      ]
     },
     "execution_count": 20,
     "metadata": {},
     "output_type": "execute_result"
    }
   ],
   "source": [
    "# compare to `apyori` lib result\n",
    "results_df.nlargest(n = 10, columns=['Support'])"
   ]
  }
 ],
 "metadata": {
  "kernelspec": {
   "display_name": "Python 3 (ipykernel)",
   "language": "python",
   "name": "python3"
  },
  "language_info": {
   "codemirror_mode": {
    "name": "ipython",
    "version": 3
   },
   "file_extension": ".py",
   "mimetype": "text/x-python",
   "name": "python",
   "nbconvert_exporter": "python",
   "pygments_lexer": "ipython3",
   "version": "3.12.4"
  }
 },
 "nbformat": 4,
 "nbformat_minor": 5
}
